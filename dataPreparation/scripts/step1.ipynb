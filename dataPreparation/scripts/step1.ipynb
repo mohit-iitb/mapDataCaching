{
 "cells": [
  {
   "cell_type": "markdown",
   "metadata": {},
   "source": [
    "### Import libraries"
   ]
  },
  {
   "cell_type": "code",
   "execution_count": 1,
   "metadata": {},
   "outputs": [],
   "source": [
    "import pandas as pd\n",
    "import numpy as np\n",
    "from tqdm import tqdm"
   ]
  },
  {
   "cell_type": "markdown",
   "metadata": {},
   "source": [
    "### Loading Data"
   ]
  },
  {
   "cell_type": "code",
   "execution_count": 8,
   "metadata": {},
   "outputs": [],
   "source": [
    "# Selecting Queries from 2008-2009 for training purpose\n",
    "queries = pd.read_csv('../data/within-150m-time.csv')\n",
    "train_queries = queries[queries['time'] <= 20100000]\n",
    "# Selecting Paths corresponding to the training Queries\n",
    "paths = pd.read_fwf('../data/paths(0_10996).csv', header=None,infer_nrows=10997)\n",
    "paths = paths[0].str.split(',', expand=True)\n",
    "paths.replace(to_replace=[None], value= -1, inplace=True)\n",
    "lst = train_queries.index.values.tolist()\n",
    "train_paths = paths[paths.index.isin(lst)]\n",
    "# Saving trainQueries and trainPaths in a separate csv for future use\n",
    "train_queries.reset_index(drop=True, inplace=True)\n",
    "train_paths.reset_index(drop=True, inplace=True)\n",
    "train_queries.to_csv('train_queries.csv',index=False)\n",
    "train_paths.to_csv('train_paths.csv',index=False,header=False)"
   ]
  },
  {
   "cell_type": "code",
   "execution_count": null,
   "metadata": {},
   "outputs": [],
   "source": []
  },
  {
   "cell_type": "code",
   "execution_count": 10,
   "metadata": {},
   "outputs": [],
   "source": []
  },
  {
   "cell_type": "code",
   "execution_count": 11,
   "metadata": {},
   "outputs": [],
   "source": []
  },
  {
   "cell_type": "code",
   "execution_count": null,
   "metadata": {},
   "outputs": [],
   "source": []
  },
  {
   "cell_type": "code",
   "execution_count": null,
   "metadata": {},
   "outputs": [],
   "source": []
  }
 ],
 "metadata": {
  "kernelspec": {
   "display_name": "Python 3",
   "language": "python",
   "name": "python3"
  },
  "language_info": {
   "codemirror_mode": {
    "name": "ipython",
    "version": 3
   },
   "file_extension": ".py",
   "mimetype": "text/x-python",
   "name": "python",
   "nbconvert_exporter": "python",
   "pygments_lexer": "ipython3",
   "version": "3.8.10"
  }
 },
 "nbformat": 4,
 "nbformat_minor": 4
}
