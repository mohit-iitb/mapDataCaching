{
 "cells": [
  {
   "cell_type": "code",
   "execution_count": 1,
   "metadata": {},
   "outputs": [],
   "source": [
    "#Removing duplicate Paths\n",
    "#It will take a lot of time\n",
    "\n",
    "import pandas as pd\n",
    "import numpy as np\n",
    "from tqdm import tqdm\n",
    "paths = pd.read_fwf('train_paths.csv', header=None,infer_nrows=10997)\n",
    "paths = paths[0].str.split(',', expand=True)\n",
    "paths.replace(to_replace=[None], value= -1, inplace=True)\n",
    "queries = pd.read_csv('train_queries.csv') \n",
    "queries=queries.rename(columns = {'Unnamed: 0':'path_no'})\n",
    "\n",
    "paths = paths.apply(pd.to_numeric)\n",
    "a = (paths.values)\n",
    "len_path = []\n",
    "for j,path in enumerate(a):\n",
    "    l = np.count_nonzero(path+1)\n",
    "    len_path.append(l)\n",
    "    \n",
    "profit_path = 8555*[0]"
   ]
  },
  {
   "cell_type": "code",
   "execution_count": 4,
   "metadata": {},
   "outputs": [
    {
     "name": "stderr",
     "output_type": "stream",
     "text": [
      "5001it [00:00, 20373.26it/s]"
     ]
    },
    {
     "name": "stdout",
     "output_type": "stream",
     "text": [
      "5000 of 5000-all profit :  5000\n",
      "5001 of 5000-all profit :  1317\n",
      "5002 of 5000-all profit :  5002\n",
      "5003 of 5000-all profit :  5003\n",
      "5004 of 5000-all profit :  5004\n",
      "5005 of 5000-all profit :  5005\n",
      "5006 of 5000-all profit :  5006\n",
      "5007 of 5000-all profit :  1319\n",
      "5008 of 5000-all profit :  5008\n",
      "5009 of 5000-all profit :  1320\n",
      "5010 of 5000-all profit :  1321\n",
      "5011 of 5000-all profit :  5011\n",
      "5012 of 5000-all profit :  5012\n",
      "5013 of 5000-all profit :  5013\n",
      "5014 of 5000-all profit :  5014\n",
      "5015 of 5000-all profit :  5015\n",
      "5016 of 5000-all profit :  5016\n",
      "5017 of 5000-all profit :  5017\n",
      "5018 of 5000-all profit :  5018\n",
      "5019 of 5000-all profit :  5019\n",
      "5020 of 5000-all profit :  5020\n",
      "5021 of 5000-all profit :  5021\n",
      "5022 of 5000-all profit :  5022\n",
      "5023 of 5000-all profit :  5023\n",
      "5024 of 5000-all profit :  5024\n",
      "5025 of 5000-all profit :  5025\n",
      "5026 of 5000-all profit :  5026\n",
      "5027 of 5000-all profit :  5027\n",
      "5028 of 5000-all profit :  5028\n",
      "5029 of 5000-all profit :  5029\n",
      "5030 of 5000-all profit :  5030\n",
      "5031 of 5000-all profit :  5031\n",
      "5032 of 5000-all profit :  5032\n",
      "5033 of 5000-all profit :  5033\n",
      "5034 of 5000-all profit :  5034\n",
      "5035 of 5000-all profit :  5035\n",
      "5036 of 5000-all profit :  5036\n",
      "5037 of 5000-all profit :  5037\n",
      "5038 of 5000-all profit :  5038\n",
      "5039 of 5000-all profit :  5039\n",
      "5040 of 5000-all profit :  5040\n",
      "5041 of 5000-all profit :  5041\n",
      "5042 of 5000-all profit :  5042\n",
      "5043 of 5000-all profit :  5043\n",
      "5044 of 5000-all profit :  5044\n",
      "5045 of 5000-all profit :  5045\n",
      "5046 of 5000-all profit :  5046\n",
      "5047 of 5000-all profit :  5047\n",
      "5048 of 5000-all profit :  5048\n",
      "5049 of 5000-all profit :  5049\n",
      "5050 of 5000-all profit :  5050\n",
      "5051 of 5000-all profit :  5051\n",
      "5052 of 5000-all profit :  5052\n",
      "5053 of 5000-all profit :  5053\n",
      "5054 of 5000-all profit :  5054\n",
      "5055 of 5000-all profit :  5055\n",
      "5056 of 5000-all profit :  5056\n",
      "5057 of 5000-all profit :  5057\n"
     ]
    },
    {
     "name": "stderr",
     "output_type": "stream",
     "text": [
      "\r",
      "5001it [00:12, 20373.26it/s]"
     ]
    },
    {
     "name": "stdout",
     "output_type": "stream",
     "text": [
      "5058 of 5000-all profit :  5058\n",
      "5059 of 5000-all profit :  5033\n"
     ]
    },
    {
     "name": "stderr",
     "output_type": "stream",
     "text": [
      "\r",
      "5061it [00:13, 273.10it/s]  "
     ]
    },
    {
     "name": "stdout",
     "output_type": "stream",
     "text": [
      "5060 of 5000-all profit :  5060\n"
     ]
    },
    {
     "name": "stderr",
     "output_type": "stream",
     "text": [
      "\r",
      "5062it [00:13, 266.89it/s]"
     ]
    },
    {
     "name": "stdout",
     "output_type": "stream",
     "text": [
      "5061 of 5000-all profit :  5061\n",
      "5062 of 5000-all profit :  5062\n",
      "5063 of 5000-all profit :  5063\n",
      "5064 of 5000-all profit :  5064\n",
      "5065 of 5000-all profit :  5065\n",
      "5066 of 5000-all profit :  5066\n",
      "5067 of 5000-all profit :  5067\n",
      "5068 of 5000-all profit :  1170\n",
      "5069 of 5000-all profit :  5069\n",
      "5070 of 5000-all profit :  5070\n",
      "5071 of 5000-all profit :  5071\n",
      "5072 of 5000-all profit :  5072\n",
      "5073 of 5000-all profit :  5073\n",
      "5074 of 5000-all profit :  5074\n",
      "5075 of 5000-all profit :  5075\n",
      "5076 of 5000-all profit :  5076\n",
      "5077 of 5000-all profit :  5038\n",
      "5078 of 5000-all profit :  5078\n",
      "5079 of 5000-all profit :  5079\n",
      "5080 of 5000-all profit :  5080\n",
      "5081 of 5000-all profit :  5081\n",
      "5082 of 5000-all profit :  5082\n",
      "5083 of 5000-all profit :  5083\n",
      "5084 of 5000-all profit :  5084\n",
      "5085 of 5000-all profit :  5085\n",
      "5086 of 5000-all profit :  1180\n",
      "5087 of 5000-all profit :  5087\n",
      "5088 of 5000-all profit :  5063\n",
      "5089 of 5000-all profit :  5089\n",
      "5090 of 5000-all profit :  5090\n",
      "5091 of 5000-all profit :  5091\n",
      "5092 of 5000-all profit :  1170\n",
      "5093 of 5000-all profit :  5093\n",
      "5094 of 5000-all profit :  5094\n",
      "5095 of 5000-all profit :  1170\n",
      "5096 of 5000-all profit :  5096\n",
      "5097 of 5000-all profit :  5097\n",
      "5098 of 5000-all profit :  5098\n",
      "5099 of 5000-all profit :  5099\n",
      "5100 of 5000-all profit :  5100\n",
      "5101 of 5000-all profit :  4167\n",
      "5102 of 5000-all profit :  5102\n",
      "5103 of 5000-all profit :  4176\n",
      "5104 of 5000-all profit :  4177\n",
      "5105 of 5000-all profit :  4182\n",
      "5106 of 5000-all profit :  5106\n",
      "5107 of 5000-all profit :  3879\n",
      "5108 of 5000-all profit :  5108\n",
      "5109 of 5000-all profit :  3882\n",
      "5110 of 5000-all profit :  5110\n",
      "5111 of 5000-all profit :  5111\n",
      "5112 of 5000-all profit :  5112\n",
      "5113 of 5000-all profit :  5113\n",
      "5114 of 5000-all profit :  5114\n",
      "5115 of 5000-all profit :  5115\n",
      "5116 of 5000-all profit :  5116\n",
      "5117 of 5000-all profit :  5117\n",
      "5118 of 5000-all profit :  5118\n",
      "5119 of 5000-all profit :  5119\n",
      "5120 of 5000-all profit :  5120\n",
      "5121 of 5000-all profit :  5121\n",
      "5122 of 5000-all profit :  5122\n",
      "5123 of 5000-all profit :  5123\n",
      "5124 of 5000-all profit :  5124\n",
      "5125 of 5000-all profit :  5125\n",
      "5126 of 5000-all profit :  5126\n",
      "5127 of 5000-all profit :  5127\n",
      "5128 of 5000-all profit :  5128\n",
      "5129 of 5000-all profit :  5129\n",
      "5130 of 5000-all profit :  5130\n",
      "5131 of 5000-all profit :  5131\n",
      "5132 of 5000-all profit :  5132\n",
      "5133 of 5000-all profit :  5133\n",
      "5134 of 5000-all profit :  5134\n",
      "5135 of 5000-all profit :  5135\n",
      "5136 of 5000-all profit :  5136\n",
      "5137 of 5000-all profit :  5137\n",
      "5138 of 5000-all profit :  5121\n",
      "5139 of 5000-all profit :  5139\n",
      "5140 of 5000-all profit :  5140\n",
      "5141 of 5000-all profit :  5141\n",
      "5142 of 5000-all profit :  5121\n",
      "5143 of 5000-all profit :  5115\n",
      "5144 of 5000-all profit :  5144\n",
      "5145 of 5000-all profit :  5145\n",
      "5146 of 5000-all profit :  5146\n",
      "5147 of 5000-all profit :  5147\n",
      "5148 of 5000-all profit :  5148\n",
      "5149 of 5000-all profit :  5149\n",
      "5150 of 5000-all profit :  5150\n"
     ]
    },
    {
     "name": "stderr",
     "output_type": "stream",
     "text": [
      "\r",
      "5062it [00:32, 266.89it/s]"
     ]
    },
    {
     "name": "stdout",
     "output_type": "stream",
     "text": [
      "5151 of 5000-all profit :  5151\n",
      "5152 of 5000-all profit :  5152\n"
     ]
    },
    {
     "name": "stderr",
     "output_type": "stream",
     "text": [
      "\r",
      "5154it [00:33, 69.72it/s] "
     ]
    },
    {
     "name": "stdout",
     "output_type": "stream",
     "text": [
      "5153 of 5000-all profit :  5153\n"
     ]
    },
    {
     "name": "stderr",
     "output_type": "stream",
     "text": [
      "\r",
      "5155it [00:33, 68.97it/s]"
     ]
    },
    {
     "name": "stdout",
     "output_type": "stream",
     "text": [
      "5154 of 5000-all profit :  5154\n",
      "5155 of 5000-all profit :  5155\n",
      "5156 of 5000-all profit :  5156\n",
      "5157 of 5000-all profit :  5157\n",
      "5158 of 5000-all profit :  5121\n",
      "5159 of 5000-all profit :  5147\n",
      "5160 of 5000-all profit :  5160\n",
      "5161 of 5000-all profit :  5161\n",
      "5162 of 5000-all profit :  5162\n",
      "5163 of 5000-all profit :  5163\n",
      "5164 of 5000-all profit :  5164\n",
      "5165 of 5000-all profit :  5165\n",
      "5166 of 5000-all profit :  5147\n",
      "5167 of 5000-all profit :  5147\n",
      "5168 of 5000-all profit :  5168\n",
      "5169 of 5000-all profit :  5169\n",
      "5170 of 5000-all profit :  5170\n",
      "5171 of 5000-all profit :  5171\n",
      "5172 of 5000-all profit :  5172\n",
      "5173 of 5000-all profit :  5157\n",
      "5174 of 5000-all profit :  5147\n",
      "5175 of 5000-all profit :  5175\n",
      "5176 of 5000-all profit :  5124\n",
      "5177 of 5000-all profit :  5154\n",
      "5178 of 5000-all profit :  5178\n",
      "5179 of 5000-all profit :  5179\n",
      "5180 of 5000-all profit :  5180\n",
      "5181 of 5000-all profit :  5154\n",
      "5182 of 5000-all profit :  5182\n",
      "5183 of 5000-all profit :  5147\n",
      "5184 of 5000-all profit :  5184\n",
      "5185 of 5000-all profit :  5185\n",
      "5186 of 5000-all profit :  5186\n",
      "5187 of 5000-all profit :  5187\n",
      "5188 of 5000-all profit :  5152\n",
      "5189 of 5000-all profit :  5189\n",
      "5190 of 5000-all profit :  5169\n",
      "5191 of 5000-all profit :  5191\n",
      "5192 of 5000-all profit :  5192\n",
      "5193 of 5000-all profit :  5154\n",
      "5194 of 5000-all profit :  5152\n",
      "5195 of 5000-all profit :  5147\n",
      "5196 of 5000-all profit :  5196\n",
      "5197 of 5000-all profit :  5197\n",
      "5198 of 5000-all profit :  5154\n",
      "5199 of 5000-all profit :  5199\n",
      "5200 of 5000-all profit :  5200\n",
      "5201 of 5000-all profit :  5133\n",
      "5202 of 5000-all profit :  5131\n",
      "5203 of 5000-all profit :  5146\n",
      "5204 of 5000-all profit :  5204\n",
      "5205 of 5000-all profit :  5205\n",
      "5206 of 5000-all profit :  5206\n",
      "5207 of 5000-all profit :  5207\n",
      "5208 of 5000-all profit :  5208\n",
      "5209 of 5000-all profit :  5209\n",
      "5210 of 5000-all profit :  5210\n",
      "5211 of 5000-all profit :  5211\n",
      "5212 of 5000-all profit :  5212\n",
      "5213 of 5000-all profit :  5213\n",
      "5214 of 5000-all profit :  5214\n",
      "5215 of 5000-all profit :  5215\n",
      "5216 of 5000-all profit :  5216\n",
      "5217 of 5000-all profit :  5121\n",
      "5218 of 5000-all profit :  5218\n",
      "5219 of 5000-all profit :  5219\n",
      "5220 of 5000-all profit :  5220\n",
      "5221 of 5000-all profit :  5169\n",
      "5222 of 5000-all profit :  5211\n",
      "5223 of 5000-all profit :  5147\n",
      "5224 of 5000-all profit :  5224\n",
      "5225 of 5000-all profit :  5225\n",
      "5226 of 5000-all profit :  5121\n",
      "5227 of 5000-all profit :  5227\n",
      "5228 of 5000-all profit :  5228\n",
      "5229 of 5000-all profit :  5229\n",
      "5230 of 5000-all profit :  5230\n",
      "5231 of 5000-all profit :  5147\n",
      "5232 of 5000-all profit :  5232\n",
      "5233 of 5000-all profit :  5121\n",
      "5234 of 5000-all profit :  5129\n",
      "5235 of 5000-all profit :  5235\n",
      "5236 of 5000-all profit :  5236\n",
      "5237 of 5000-all profit :  5237\n",
      "5238 of 5000-all profit :  5121\n",
      "5239 of 5000-all profit :  5169\n",
      "5240 of 5000-all profit :  5134\n",
      "5241 of 5000-all profit :  5112\n",
      "5242 of 5000-all profit :  5242\n",
      "5243 of 5000-all profit :  5165\n",
      "5244 of 5000-all profit :  5244\n",
      "5245 of 5000-all profit :  5245\n"
     ]
    },
    {
     "name": "stderr",
     "output_type": "stream",
     "text": [
      "5247it [00:53, 30.15it/s]"
     ]
    },
    {
     "name": "stdout",
     "output_type": "stream",
     "text": [
      "5246 of 5000-all profit :  5180\n"
     ]
    },
    {
     "name": "stderr",
     "output_type": "stream",
     "text": [
      "\r",
      "5248it [00:53, 29.91it/s]"
     ]
    },
    {
     "name": "stdout",
     "output_type": "stream",
     "text": [
      "5247 of 5000-all profit :  5124\n",
      "5248 of 5000-all profit :  5112\n",
      "5249 of 5000-all profit :  5249\n",
      "5250 of 5000-all profit :  5227\n",
      "5251 of 5000-all profit :  5147\n",
      "5252 of 5000-all profit :  5252\n",
      "5253 of 5000-all profit :  5253\n",
      "5254 of 5000-all profit :  5121\n",
      "5255 of 5000-all profit :  5255\n",
      "5256 of 5000-all profit :  5256\n",
      "5257 of 5000-all profit :  5257\n",
      "5258 of 5000-all profit :  5131\n",
      "5259 of 5000-all profit :  5121\n",
      "5260 of 5000-all profit :  5147\n",
      "5261 of 5000-all profit :  5131\n",
      "5262 of 5000-all profit :  5178\n",
      "5263 of 5000-all profit :  5146\n",
      "5264 of 5000-all profit :  5121\n",
      "5265 of 5000-all profit :  5265\n",
      "5266 of 5000-all profit :  5121\n",
      "5267 of 5000-all profit :  5267\n"
     ]
    },
    {
     "name": "stderr",
     "output_type": "stream",
     "text": [
      "\r",
      "5269it [00:58, 90.54it/s]"
     ]
    },
    {
     "name": "stdout",
     "output_type": "stream",
     "text": [
      "5268 of 5000-all profit :  5268\n"
     ]
    },
    {
     "name": "stderr",
     "output_type": "stream",
     "text": [
      "\n"
     ]
    },
    {
     "ename": "KeyboardInterrupt",
     "evalue": "",
     "output_type": "error",
     "traceback": [
      "\u001b[0;31m---------------------------------------------------------------------------\u001b[0m",
      "\u001b[0;31mKeyboardInterrupt\u001b[0m                         Traceback (most recent call last)",
      "\u001b[0;32m<ipython-input-4-a477ab5a2362>\u001b[0m in \u001b[0;36m<module>\u001b[0;34m\u001b[0m\n\u001b[1;32m      7\u001b[0m         \u001b[0;32mfor\u001b[0m \u001b[0mj\u001b[0m\u001b[0;34m,\u001b[0m\u001b[0msrc_des\u001b[0m \u001b[0;32min\u001b[0m \u001b[0mqueries\u001b[0m\u001b[0;34m.\u001b[0m\u001b[0miterrows\u001b[0m\u001b[0;34m(\u001b[0m\u001b[0;34m)\u001b[0m\u001b[0;34m:\u001b[0m\u001b[0;34m\u001b[0m\u001b[0;34m\u001b[0m\u001b[0m\n\u001b[1;32m      8\u001b[0m                 \u001b[0msrc\u001b[0m \u001b[0;34m=\u001b[0m \u001b[0mmin\u001b[0m\u001b[0;34m(\u001b[0m\u001b[0msrc_des\u001b[0m\u001b[0;34m[\u001b[0m\u001b[0;36m0\u001b[0m\u001b[0;34m]\u001b[0m\u001b[0;34m,\u001b[0m\u001b[0msrc_des\u001b[0m\u001b[0;34m[\u001b[0m\u001b[0;36m1\u001b[0m\u001b[0;34m]\u001b[0m\u001b[0;34m)\u001b[0m\u001b[0;34m\u001b[0m\u001b[0;34m\u001b[0m\u001b[0m\n\u001b[0;32m----> 9\u001b[0;31m                 \u001b[0mdes\u001b[0m \u001b[0;34m=\u001b[0m \u001b[0mmax\u001b[0m\u001b[0;34m(\u001b[0m\u001b[0msrc_des\u001b[0m\u001b[0;34m[\u001b[0m\u001b[0;36m0\u001b[0m\u001b[0;34m]\u001b[0m\u001b[0;34m,\u001b[0m\u001b[0msrc_des\u001b[0m\u001b[0;34m[\u001b[0m\u001b[0;36m1\u001b[0m\u001b[0;34m]\u001b[0m\u001b[0;34m)\u001b[0m\u001b[0;34m\u001b[0m\u001b[0;34m\u001b[0m\u001b[0m\n\u001b[0m\u001b[1;32m     10\u001b[0m                 \u001b[0;32mif\u001b[0m \u001b[0;34m(\u001b[0m\u001b[0mdes\u001b[0m\u001b[0;34m==\u001b[0m\u001b[0mmax_node\u001b[0m \u001b[0;32mand\u001b[0m \u001b[0msrc\u001b[0m\u001b[0;34m==\u001b[0m\u001b[0mmin_node\u001b[0m\u001b[0;34m)\u001b[0m\u001b[0;34m:\u001b[0m\u001b[0;34m\u001b[0m\u001b[0;34m\u001b[0m\u001b[0m\n\u001b[1;32m     11\u001b[0m                     \u001b[0mc\u001b[0m\u001b[0;34m.\u001b[0m\u001b[0mappend\u001b[0m\u001b[0;34m(\u001b[0m\u001b[0mj\u001b[0m\u001b[0;34m)\u001b[0m\u001b[0;34m\u001b[0m\u001b[0;34m\u001b[0m\u001b[0m\n",
      "\u001b[0;32m~/miniforge3/envs/env1/lib/python3.8/site-packages/pandas/core/series.py\u001b[0m in \u001b[0;36m__getitem__\u001b[0;34m(self, key)\u001b[0m\n\u001b[1;32m    847\u001b[0m             \u001b[0mkey\u001b[0m \u001b[0;34m=\u001b[0m \u001b[0munpack_1tuple\u001b[0m\u001b[0;34m(\u001b[0m\u001b[0mkey\u001b[0m\u001b[0;34m)\u001b[0m\u001b[0;34m\u001b[0m\u001b[0;34m\u001b[0m\u001b[0m\n\u001b[1;32m    848\u001b[0m \u001b[0;34m\u001b[0m\u001b[0m\n\u001b[0;32m--> 849\u001b[0;31m         \u001b[0;32mif\u001b[0m \u001b[0mis_integer\u001b[0m\u001b[0;34m(\u001b[0m\u001b[0mkey\u001b[0m\u001b[0;34m)\u001b[0m \u001b[0;32mand\u001b[0m \u001b[0mself\u001b[0m\u001b[0;34m.\u001b[0m\u001b[0mindex\u001b[0m\u001b[0;34m.\u001b[0m\u001b[0m_should_fallback_to_positional\u001b[0m\u001b[0;34m(\u001b[0m\u001b[0;34m)\u001b[0m\u001b[0;34m:\u001b[0m\u001b[0;34m\u001b[0m\u001b[0;34m\u001b[0m\u001b[0m\n\u001b[0m\u001b[1;32m    850\u001b[0m             \u001b[0;32mreturn\u001b[0m \u001b[0mself\u001b[0m\u001b[0;34m.\u001b[0m\u001b[0m_values\u001b[0m\u001b[0;34m[\u001b[0m\u001b[0mkey\u001b[0m\u001b[0;34m]\u001b[0m\u001b[0;34m\u001b[0m\u001b[0;34m\u001b[0m\u001b[0m\n\u001b[1;32m    851\u001b[0m \u001b[0;34m\u001b[0m\u001b[0m\n",
      "\u001b[0;32m~/miniforge3/envs/env1/lib/python3.8/site-packages/pandas/core/indexes/base.py\u001b[0m in \u001b[0;36m_should_fallback_to_positional\u001b[0;34m(self)\u001b[0m\n\u001b[1;32m   4839\u001b[0m         \u001b[0mShould\u001b[0m \u001b[0man\u001b[0m \u001b[0minteger\u001b[0m \u001b[0mkey\u001b[0m \u001b[0mbe\u001b[0m \u001b[0mtreated\u001b[0m \u001b[0;32mas\u001b[0m \u001b[0mpositional\u001b[0m\u001b[0;31m?\u001b[0m\u001b[0;34m\u001b[0m\u001b[0;34m\u001b[0m\u001b[0m\n\u001b[1;32m   4840\u001b[0m         \"\"\"\n\u001b[0;32m-> 4841\u001b[0;31m         \u001b[0;32mif\u001b[0m \u001b[0mself\u001b[0m\u001b[0;34m.\u001b[0m\u001b[0mholds_integer\u001b[0m\u001b[0;34m(\u001b[0m\u001b[0;34m)\u001b[0m \u001b[0;32mor\u001b[0m \u001b[0mself\u001b[0m\u001b[0;34m.\u001b[0m\u001b[0mis_boolean\u001b[0m\u001b[0;34m(\u001b[0m\u001b[0;34m)\u001b[0m\u001b[0;34m:\u001b[0m\u001b[0;34m\u001b[0m\u001b[0;34m\u001b[0m\u001b[0m\n\u001b[0m\u001b[1;32m   4842\u001b[0m             \u001b[0;32mreturn\u001b[0m \u001b[0;32mFalse\u001b[0m\u001b[0;34m\u001b[0m\u001b[0;34m\u001b[0m\u001b[0m\n\u001b[1;32m   4843\u001b[0m         \u001b[0;32mreturn\u001b[0m \u001b[0;32mTrue\u001b[0m\u001b[0;34m\u001b[0m\u001b[0;34m\u001b[0m\u001b[0m\n",
      "\u001b[0;32m~/miniforge3/envs/env1/lib/python3.8/site-packages/pandas/core/indexes/base.py\u001b[0m in \u001b[0;36mis_boolean\u001b[0;34m(self)\u001b[0m\n\u001b[1;32m   1835\u001b[0m         \u001b[0;32mFalse\u001b[0m\u001b[0;34m\u001b[0m\u001b[0;34m\u001b[0m\u001b[0m\n\u001b[1;32m   1836\u001b[0m         \"\"\"\n\u001b[0;32m-> 1837\u001b[0;31m         \u001b[0;32mreturn\u001b[0m \u001b[0mself\u001b[0m\u001b[0;34m.\u001b[0m\u001b[0minferred_type\u001b[0m \u001b[0;32min\u001b[0m \u001b[0;34m[\u001b[0m\u001b[0;34m\"boolean\"\u001b[0m\u001b[0;34m]\u001b[0m\u001b[0;34m\u001b[0m\u001b[0;34m\u001b[0m\u001b[0m\n\u001b[0m\u001b[1;32m   1838\u001b[0m \u001b[0;34m\u001b[0m\u001b[0m\n\u001b[1;32m   1839\u001b[0m     \u001b[0;34m@\u001b[0m\u001b[0mfinal\u001b[0m\u001b[0;34m\u001b[0m\u001b[0;34m\u001b[0m\u001b[0m\n",
      "\u001b[0;31mKeyboardInterrupt\u001b[0m: "
     ]
    }
   ],
   "source": [
    "for i,path in tqdm(enumerate(a)):\n",
    "    profit = 0\n",
    "    if i>=0:          #####################################\n",
    "        max_node = (max(path[0],path[len_path[i]-1]))\n",
    "        min_node = (min(path[0],path[len_path[i]-1]))\n",
    "        c = []\n",
    "        for j,src_des in queries.iterrows():\n",
    "                src = min(src_des[0],src_des[1])\n",
    "                des = max(src_des[0],src_des[1])\n",
    "                if (des==max_node and src==min_node):\n",
    "                    c.append(j)\n",
    "          \n",
    "        profit  = min(c)\n",
    "        profit_path[profit] += 1\n",
    "        print(i,'of 8554 : ',profit) ##########################\n",
    "        \n",
    "                    \n",
    "pd.DataFrame(profit_path).to_csv('test.csv',index=False,header=False) ##################"
   ]
  },
  {
   "cell_type": "code",
   "execution_count": null,
   "metadata": {},
   "outputs": [],
   "source": []
  }
 ],
 "metadata": {
  "kernelspec": {
   "display_name": "Python 3",
   "language": "python",
   "name": "python3"
  },
  "language_info": {
   "codemirror_mode": {
    "name": "ipython",
    "version": 3
   },
   "file_extension": ".py",
   "mimetype": "text/x-python",
   "name": "python",
   "nbconvert_exporter": "python",
   "pygments_lexer": "ipython3",
   "version": "3.8.10"
  }
 },
 "nbformat": 4,
 "nbformat_minor": 4
}
