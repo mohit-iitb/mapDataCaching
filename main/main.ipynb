{
 "cells": [
  {
   "cell_type": "markdown",
   "metadata": {},
   "source": [
    "##### Run this file to generate the results shown in the paper\n",
    "###### The data files(.csv) used in this code are generated from preprocessing, for more details see the : pre-processing folder"
   ]
  },
  {
   "cell_type": "markdown",
   "metadata": {},
   "source": [
    "## Importing Required Libraries"
   ]
  },
  {
   "cell_type": "code",
   "execution_count": 1,
   "metadata": {},
   "outputs": [],
   "source": [
    "import pandas as pd\n",
    "import numpy as np\n",
    "from tqdm import tqdm"
   ]
  },
  {
   "cell_type": "markdown",
   "metadata": {},
   "source": [
    "## Loading Data\n"
   ]
  },
  {
   "cell_type": "code",
   "execution_count": 3,
   "metadata": {},
   "outputs": [],
   "source": [
    "ratio = pd.read_csv('data/sorted-ratio-profit-length(0_5299).csv',header = None)\n",
    "ratio.columns = ['path_no','ratio','profit','length']\n",
    "\n",
    "queries = pd.read_csv('data/within-150m-time.csv')\n",
    "test_queries = queries[(queries['time'] >= 20100000) & (queries['time'] <= 20110000)]\n",
    "test_queries.reset_index(drop=True, inplace=True)\n",
    "\n",
    "paths = pd.read_csv('data/train_paths_without_duplicates.csv')\n",
    "paths=paths.rename(columns = {'Unnamed: 0':'path_no'})\n",
    "# The property of shortest path is that it will always contain unique nodes"
   ]
  },
  {
   "cell_type": "markdown",
   "metadata": {},
   "source": [
    "## Generating cache levels\n",
    "##### Total 1000 cache levels "
   ]
  },
  {
   "cell_type": "code",
   "execution_count": 5,
   "metadata": {},
   "outputs": [
    {
     "name": "stderr",
     "output_type": "stream",
     "text": [
      "100%|██████████| 1000/1000 [01:00<00:00, 16.66it/s]\n"
     ]
    }
   ],
   "source": [
    "def cachelist(cache,sorted_ratio,cumulative_length):\n",
    "    capacity  = cache * cumulative_length\n",
    "    b = 0\n",
    "    a = 0\n",
    "    cache_pathlist = []\n",
    "    for i,data in sorted_ratio.iterrows():\n",
    "        cache_pathlist.append(data[0])\n",
    "        a += data[3]\n",
    "        b += 1\n",
    "        if a>=capacity:\n",
    "            break\n",
    "    return cache_pathlist\n",
    "\n",
    "# Will take few seconds to run\n",
    "# Will generate a folder named cached\n",
    "\n",
    "cache = 0.001\n",
    "cumulative_length = 0\n",
    "total_paths = 0\n",
    "for i,data in ratio.iterrows():\n",
    "    cumulative_length += data[3]\n",
    "    total_paths += 1\n",
    "for i in tqdm(range(1000)):\n",
    "    cache_pathlist = cachelist(cache,ratio,cumulative_length)\n",
    "#     print(len(cache_pathlist)) \n",
    "    pd.DataFrame(cache_pathlist).to_csv('results/cached/cache_'+str(\"%0.3f\"% cache)+'_pathlist.csv',index=False,header=False)\n",
    "    cache +=0.001"
   ]
  },
  {
   "cell_type": "markdown",
   "metadata": {},
   "source": [
    "## Testing on the unseen Queries"
   ]
  },
  {
   "cell_type": "code",
   "execution_count": 6,
   "metadata": {},
   "outputs": [
    {
     "name": "stderr",
     "output_type": "stream",
     "text": [
      "100%|██████████| 1000/1000 [01:18<00:00, 12.72it/s]\n"
     ]
    }
   ],
   "source": [
    "ans =[]\n",
    "ans.append(0)\n",
    "cache = 0\n",
    "cache_id = 0\n",
    "query = test_queries.copy() \n",
    "\n",
    "# Will take few seconds to run\n",
    "# Will generate a file named \"ans.csv\"\n",
    "\n",
    "for z in tqdm(range(1000)):\n",
    "    cache = cache+0.001\n",
    "    cache_pathlist = pd.read_csv('results/cached/cache_'+str(\"%0.3f\"% cache)+'_pathlist.csv',header = None)\n",
    "    y = cache_pathlist.shape[0]\n",
    "    cache_pathlist = cache_pathlist[cache_id:cache_pathlist.shape[0]]\n",
    "    cache_id = y\n",
    "    cache_list = cache_pathlist[0].values.tolist()\n",
    "    p = paths[paths.path_no.isin(cache_list)]\n",
    "    p = p.drop(['path_no'],axis =1)\n",
    "    p = p.apply(pd.to_numeric)\n",
    "    a = (p.values)\n",
    "    a.sort(axis=1)\n",
    "    a = a[:, ::-1]\n",
    "    len_path = []\n",
    "    for j,path in enumerate(a):\n",
    "        l = np.count_nonzero(path+1)\n",
    "        len_path.append(l)\n",
    "    answer = 0\n",
    "    indexes_to_drop=[]\n",
    "    for i,src_des in query.iterrows():\n",
    "        des = max(src_des[0],src_des[1])\n",
    "        src = min(src_des[0],src_des[1])\n",
    "        for j,path in enumerate(a):\n",
    "            max_node = path[0]\n",
    "            min_node = path[len_path[j]-1]\n",
    "            if des<=max_node and src>=min_node:\n",
    "                c = 0\n",
    "                for k in range(len_path[j]):\n",
    "                    if src == path[k]:\n",
    "                        c +=1\n",
    "                    if des == path[k]:\n",
    "                        c +=1\n",
    "                if c == 2:\n",
    "                    answer +=1\n",
    "                    indexes_to_drop.append(i)\n",
    "                    break\n",
    "    ans.append(answer+ans[z])\n",
    "#     print(z,answer+ans[z])\n",
    "    query.drop(query.index[indexes_to_drop],inplace = True)\n",
    "    query.reset_index(drop=True, inplace=True)\n",
    "# print('queriesAnaswered :',ans)\n",
    "pd.DataFrame(ans[1:]).to_csv('results/ans.csv',index = False,header = False)"
   ]
  },
  {
   "cell_type": "markdown",
   "metadata": {},
   "source": [
    "## Plotting unseenQueriesServed vs cacheStored"
   ]
  },
  {
   "cell_type": "code",
   "execution_count": 7,
   "metadata": {},
   "outputs": [
    {
     "data": {
      "image/png": "[encoded data removed]",
      "text/plain": [
       "<Figure size 432x288 with 1 Axes>"
      ]
     },
     "metadata": {
      "needs_background": "light"
     },
     "output_type": "display_data"
    }
   ],
   "source": [
    "import matplotlib.pyplot as plt\n",
    "cache =0.001*100\n",
    "x = [cache*i for i in range(1,len(ans)+1)]\n",
    "y = [(i/1059)*100 for i in ans]\n",
    "\n",
    "plt.plot(x,y)\n",
    "plt.xlabel('Percent(%) of Cache stored')\n",
    "plt.ylabel('Percent(%) of Queries answered')\n",
    "plt.title('2007-2009 trained, tested on 2010')\n",
    "plt.savefig('results/main.eps',dpi = 600)"
   ]
  },
  {
   "cell_type": "code",
   "execution_count": null,
   "metadata": {},
   "outputs": [],
   "source": []
  }
 ],
 "metadata": {
  "kernelspec": {
   "display_name": "Python 3",
   "language": "python",
   "name": "python3"
  },
  "language_info": {
   "codemirror_mode": {
    "name": "ipython",
    "version": 3
   },
   "file_extension": ".py",
   "mimetype": "text/x-python",
   "name": "python",
   "nbconvert_exporter": "python",
   "pygments_lexer": "ipython3",
   "version": "3.8.10"
  }
 },
 "nbformat": 4,
 "nbformat_minor": 4
}
