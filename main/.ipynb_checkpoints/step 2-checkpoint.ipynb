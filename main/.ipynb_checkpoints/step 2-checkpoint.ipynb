{
 "cells": [
  {
   "cell_type": "code",
   "execution_count": null,
   "metadata": {},
   "outputs": [
    {
     "name": "stdout",
     "output_type": "stream",
     "text": [
      "0 of 0-4999 profit :  0\n",
      "1 of 0-4999 profit :  1\n",
      "2 of 0-4999 profit :  2\n",
      "3 of 0-4999 profit :  3\n",
      "4 of 0-4999 profit :  4\n",
      "5 of 0-4999 profit :  5\n",
      "6 of 0-4999 profit :  6\n",
      "7 of 0-4999 profit :  7\n",
      "8 of 0-4999 profit :  4\n",
      "9 of 0-4999 profit :  7\n",
      "10 of 0-4999 profit :  10\n",
      "11 of 0-4999 profit :  11\n",
      "12 of 0-4999 profit :  12\n",
      "13 of 0-4999 profit :  13\n",
      "14 of 0-4999 profit :  14\n",
      "15 of 0-4999 profit :  15\n",
      "16 of 0-4999 profit :  16\n",
      "17 of 0-4999 profit :  4\n",
      "18 of 0-4999 profit :  18\n",
      "19 of 0-4999 profit :  19\n",
      "20 of 0-4999 profit :  20\n",
      "21 of 0-4999 profit :  21\n",
      "22 of 0-4999 profit :  22\n",
      "23 of 0-4999 profit :  23\n",
      "24 of 0-4999 profit :  24\n",
      "25 of 0-4999 profit :  25\n",
      "26 of 0-4999 profit :  26\n",
      "27 of 0-4999 profit :  27\n",
      "28 of 0-4999 profit :  28\n",
      "29 of 0-4999 profit :  29\n",
      "30 of 0-4999 profit :  30\n",
      "31 of 0-4999 profit :  31\n",
      "32 of 0-4999 profit :  32\n",
      "33 of 0-4999 profit :  33\n",
      "34 of 0-4999 profit :  7\n",
      "35 of 0-4999 profit :  10\n",
      "36 of 0-4999 profit :  36\n",
      "37 of 0-4999 profit :  37\n"
     ]
    }
   ],
   "source": [
    "#computing profits\n",
    "import pandas as pd\n",
    "import numpy as np\n",
    "paths = pd.read_fwf('train_paths.csv', header=None,infer_nrows=10997)\n",
    "paths = paths[0].str.split(',', expand=True)\n",
    "paths.replace(to_replace=[None], value= -1, inplace=True)\n",
    "queries = pd.read_csv('train_queries.csv') \n",
    "queries=queries.rename(columns = {'Unnamed: 0':'path_no'})\n",
    "\n",
    "#paths.head()\n",
    "paths = paths.apply(pd.to_numeric)\n",
    "a = (paths.values)\n",
    "# a.sort(axis=1)\n",
    "# a = a[:, ::-1]\n",
    "len_path = []\n",
    "for j,path in enumerate(a):\n",
    "    l = np.count_nonzero(path+1)\n",
    "    len_path.append(l)\n",
    "    \n",
    "profit_path = 8555*[0]\n",
    "\n",
    "for i,path in enumerate(a):\n",
    "    profit = 0\n",
    "    if i>=0 and i<=4999:          #####################################\n",
    "        max_node = (max(path[0],path[len_path[i]-1]))\n",
    "        min_node = (min(path[0],path[len_path[i]-1]))\n",
    "        c = []\n",
    "        for j,src_des in queries.iterrows():\n",
    "                src = min(src_des[0],src_des[1])\n",
    "                des = max(src_des[0],src_des[1])\n",
    "                if (des==max_node and src==min_node):\n",
    "                    c.append(j)\n",
    "#         print(i,j)           \n",
    "        profit  = min(c)\n",
    "#         c.remove(profit)\n",
    "#         print('c',c)\n",
    "#         queries.drop(queries.path_no[c],inplace = True)\n",
    "# #         queries.reset_index(drop=True, inplace=True)\n",
    "        profit_path[profit] += 1\n",
    "        print(i,'of 0-4999 profit : ',profit) ##########################\n",
    "        \n",
    "                    \n",
    "pd.DataFrame(profit_path).to_csv('test(0-4999)_of traindata.csv',index=False,header=False) ##################"
   ]
  },
  {
   "cell_type": "code",
   "execution_count": null,
   "metadata": {},
   "outputs": [],
   "source": []
  }
 ],
 "metadata": {
  "kernelspec": {
   "display_name": "Python 3",
   "language": "python",
   "name": "python3"
  },
  "language_info": {
   "codemirror_mode": {
    "name": "ipython",
    "version": 3
   },
   "file_extension": ".py",
   "mimetype": "text/x-python",
   "name": "python",
   "nbconvert_exporter": "python",
   "pygments_lexer": "ipython3",
   "version": "3.8.5"
  }
 },
 "nbformat": 4,
 "nbformat_minor": 4
}
