{
 "cells": [
  {
   "cell_type": "code",
   "execution_count": 1,
   "metadata": {},
   "outputs": [],
   "source": [
    "import pandas as pd\n",
    "import csv\n",
    "from glob import glob"
   ]
  },
  {
   "cell_type": "code",
   "execution_count": 2,
   "metadata": {},
   "outputs": [
    {
     "name": "stdout",
     "output_type": "stream",
     "text": [
      "['test/test(5000-all)_of traindata.csv', 'test/test(0-4999)_of traindata.csv']\n"
     ]
    }
   ],
   "source": [
    "files = glob(\"test/*.{}\".format(\"csv\"))\n",
    "print(files)"
   ]
  },
  {
   "cell_type": "code",
   "execution_count": 3,
   "metadata": {},
   "outputs": [
    {
     "name": "stdout",
     "output_type": "stream",
     "text": [
      "8555\n"
     ]
    }
   ],
   "source": [
    "path = \".\"\n",
    "\n",
    "\n",
    "files = ['test/test(5000-all)_of traindata.csv', 'test/test(0-4999)_of traindata.csv']\n",
    "\n",
    "output_list = 8555*[0]\n",
    "\n",
    "for f in files:\n",
    "    inpf = open(f,'r')\n",
    "    file_content = inpf.readlines()[:]\n",
    "    n = len(file_content)\n",
    "    for j in range(n):\n",
    "        output_list[j] += int(file_content[j])\n",
    "    inpf.close()\n",
    "    \n",
    "print(len(output_list))    \n",
    "    \n"
   ]
  },
  {
   "cell_type": "code",
   "execution_count": 4,
   "metadata": {},
   "outputs": [],
   "source": [
    "pd.DataFrame(output_list).to_csv(\"test(0:8554).csv\",header = None)"
   ]
  },
  {
   "cell_type": "code",
   "execution_count": 5,
   "metadata": {},
   "outputs": [],
   "source": [
    "import pandas as pd\n",
    "data = pd.read_csv(\"test(0:8554).csv\",header = None)#renamed to 0:8554\n",
    "sort = data.sort_values(by=[1], ascending=False)"
   ]
  },
  {
   "cell_type": "code",
   "execution_count": 6,
   "metadata": {},
   "outputs": [],
   "source": [
    "sort.to_csv('sorted(0:8554).csv',header=False,index = False)#renamed to 0:8554"
   ]
  },
  {
   "cell_type": "code",
   "execution_count": 7,
   "metadata": {},
   "outputs": [],
   "source": [
    "########profit"
   ]
  },
  {
   "cell_type": "code",
   "execution_count": 8,
   "metadata": {},
   "outputs": [
    {
     "name": "stdout",
     "output_type": "stream",
     "text": [
      "['profit/profit(0-2499).csv', 'profit/profit(2500-4999).csv', 'profit/profit(7000-all).csv', 'profit/profit(5000-6999).csv']\n"
     ]
    }
   ],
   "source": [
    "files = glob(\"profit/*.{}\".format(\"csv\"))\n",
    "print(files)\n"
   ]
  },
  {
   "cell_type": "code",
   "execution_count": 9,
   "metadata": {},
   "outputs": [
    {
     "name": "stdout",
     "output_type": "stream",
     "text": [
      "8555\n"
     ]
    }
   ],
   "source": [
    "import pandas as pd\n",
    "import csv\n",
    "from glob import glob\n",
    "\n",
    "path = \".\"\n",
    "\n",
    "files = ['profit/profit(0-2499).csv','profit/profit(2500-4999).csv','profit/profit(5000-6999).csv', 'profit/profit(7000-all).csv']\n",
    "output_list = []\n",
    "\n",
    "for f in files:\n",
    "    inpf = open(f,'r')\n",
    "    file_content = inpf.readlines()[:]\n",
    "    n = len(file_content)\n",
    "    for j in range(n):\n",
    "        output_list.append(file_content[j].rstrip(\"\\n\").split(\",\"))\n",
    "    inpf.close()\n",
    "    \n",
    "print(len(output_list))    \n",
    "    \n",
    "with open(\"profit(0:8554).csv\",\"w+\") as f:  \n",
    "    write = csv.writer(f)\n",
    "    write.writerows(output_list)\n",
    "    \n"
   ]
  },
  {
   "cell_type": "code",
   "execution_count": null,
   "metadata": {},
   "outputs": [],
   "source": []
  }
 ],
 "metadata": {
  "kernelspec": {
   "display_name": "Python 3",
   "language": "python",
   "name": "python3"
  },
  "language_info": {
   "codemirror_mode": {
    "name": "ipython",
    "version": 3
   },
   "file_extension": ".py",
   "mimetype": "text/x-python",
   "name": "python",
   "nbconvert_exporter": "python",
   "pygments_lexer": "ipython3",
   "version": "3.8.5"
  }
 },
 "nbformat": 4,
 "nbformat_minor": 4
}
